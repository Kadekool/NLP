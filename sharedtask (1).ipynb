{
  "cells": [
    {
      "cell_type": "code",
      "execution_count": 1,
      "metadata": {
        "id": "kKEU8GJiD053"
      },
      "outputs": [],
      "source": [
        "# trainData\n",
        "\n",
        "import random\n",
        "import os\n",
        "import pandas as pd\n",
        "import numpy as np\n",
        "from urllib import request"
      ]
    },
    {
      "cell_type": "code",
      "execution_count": 2,
      "metadata": {
        "colab": {
          "base_uri": "https://localhost:8080/"
        },
        "id": "EyrwfTgDD058",
        "outputId": "c2c8fe79-f93b-4e64-c7d1-0bd7c17e2b6d"
      },
      "outputs": [
        {
          "output_type": "stream",
          "name": "stdout",
          "text": [
            "Fetching https://raw.githubusercontent.com/Perez-AlmendrosC/dontpatronizeme/master/semeval-2022/dont_patronize_me.py\n"
          ]
        }
      ],
      "source": [
        "module_url = f\"https://raw.githubusercontent.com/Perez-AlmendrosC/dontpatronizeme/master/semeval-2022/dont_patronize_me.py\"\n",
        "module_name = module_url.split('/')[-1]\n",
        "print(f'Fetching {module_url}')\n",
        "# with open(\"file_1.txt\") as f1, open(\"file_2.txt\") as f2\n",
        "with request.urlopen(module_url) as f, open(module_name,'w') as outf:\n",
        "    a = f.read()\n",
        "    outf.write(a.decode('utf-8'))\n",
        "# dfTrain = pd.DataFrame(trainData, columns = ['','Word','Tag'])"
      ]
    },
    {
      "cell_type": "code",
      "execution_count": 3,
      "metadata": {
        "id": "tOHlZdOhD059"
      },
      "outputs": [],
      "source": [
        "from dont_patronize_me import DontPatronizeMe\n",
        "# Initialize a dpm (Don't Patronize Me) object.\n",
        "# It takes two areguments as input: \n",
        "# (1) Path to the directory containing the training set files, which is the root directory of this notebook.\n",
        "# (2) Path to the test set, which will be released when the evaluation phase begins. In this example, \n",
        "# we use the dataset for Subtask 1, which the code will load without labels.\n",
        "dpm = DontPatronizeMe('.', 'dontpatronizeme_pcl.tsv')\n",
        "# dpm = DontPatronizeMe('/Users/benma/dontpatronizeme_v1.4', 'dontpatronizeme_pcl.tsv')"
      ]
    },
    {
      "cell_type": "code",
      "execution_count": 4,
      "metadata": {
        "id": "ap9z9g6qD05-"
      },
      "outputs": [],
      "source": [
        "# This method loads the subtask 1 data\n",
        "dpm.load_task1()\n",
        "# which we can then access as a dataframe\n",
        "df = dpm.train_task1_df"
      ]
    },
    {
      "cell_type": "code",
      "execution_count": 5,
      "metadata": {
        "id": "TE-0E4TsD05-",
        "colab": {
          "base_uri": "https://localhost:8080/",
          "height": 424
        },
        "outputId": "6898b189-0fc8-43f2-ee2b-06dd780b4a46"
      },
      "outputs": [
        {
          "output_type": "execute_result",
          "data": {
            "text/html": [
              "<div>\n",
              "<style scoped>\n",
              "    .dataframe tbody tr th:only-of-type {\n",
              "        vertical-align: middle;\n",
              "    }\n",
              "\n",
              "    .dataframe tbody tr th {\n",
              "        vertical-align: top;\n",
              "    }\n",
              "\n",
              "    .dataframe thead th {\n",
              "        text-align: right;\n",
              "    }\n",
              "</style>\n",
              "<table border=\"1\" class=\"dataframe\">\n",
              "  <thead>\n",
              "    <tr style=\"text-align: right;\">\n",
              "      <th></th>\n",
              "      <th>par_id</th>\n",
              "      <th>art_id</th>\n",
              "      <th>keyword</th>\n",
              "      <th>country</th>\n",
              "      <th>text</th>\n",
              "      <th>label</th>\n",
              "      <th>orig_label</th>\n",
              "    </tr>\n",
              "  </thead>\n",
              "  <tbody>\n",
              "    <tr>\n",
              "      <th>0</th>\n",
              "      <td>1</td>\n",
              "      <td>@@24942188</td>\n",
              "      <td>hopeless</td>\n",
              "      <td>ph</td>\n",
              "      <td>we 're living in times of absolute insanity , ...</td>\n",
              "      <td>0</td>\n",
              "      <td>0</td>\n",
              "    </tr>\n",
              "    <tr>\n",
              "      <th>1</th>\n",
              "      <td>2</td>\n",
              "      <td>@@21968160</td>\n",
              "      <td>migrant</td>\n",
              "      <td>gh</td>\n",
              "      <td>in libya today , there are countless number of...</td>\n",
              "      <td>0</td>\n",
              "      <td>0</td>\n",
              "    </tr>\n",
              "    <tr>\n",
              "      <th>2</th>\n",
              "      <td>3</td>\n",
              "      <td>@@16584954</td>\n",
              "      <td>immigrant</td>\n",
              "      <td>ie</td>\n",
              "      <td>\"white house press secretary sean spicer said ...</td>\n",
              "      <td>0</td>\n",
              "      <td>0</td>\n",
              "    </tr>\n",
              "    <tr>\n",
              "      <th>3</th>\n",
              "      <td>4</td>\n",
              "      <td>@@7811231</td>\n",
              "      <td>disabled</td>\n",
              "      <td>nz</td>\n",
              "      <td>council customers only signs would be displaye...</td>\n",
              "      <td>0</td>\n",
              "      <td>0</td>\n",
              "    </tr>\n",
              "    <tr>\n",
              "      <th>4</th>\n",
              "      <td>5</td>\n",
              "      <td>@@1494111</td>\n",
              "      <td>refugee</td>\n",
              "      <td>ca</td>\n",
              "      <td>\"\"\" just like we received migrants fleeing el ...</td>\n",
              "      <td>0</td>\n",
              "      <td>0</td>\n",
              "    </tr>\n",
              "    <tr>\n",
              "      <th>...</th>\n",
              "      <td>...</td>\n",
              "      <td>...</td>\n",
              "      <td>...</td>\n",
              "      <td>...</td>\n",
              "      <td>...</td>\n",
              "      <td>...</td>\n",
              "      <td>...</td>\n",
              "    </tr>\n",
              "    <tr>\n",
              "      <th>10464</th>\n",
              "      <td>10465</td>\n",
              "      <td>@@14297363</td>\n",
              "      <td>women</td>\n",
              "      <td>lk</td>\n",
              "      <td>\"sri lankan norms and culture inhibit women fr...</td>\n",
              "      <td>0</td>\n",
              "      <td>1</td>\n",
              "    </tr>\n",
              "    <tr>\n",
              "      <th>10465</th>\n",
              "      <td>10466</td>\n",
              "      <td>@@70091353</td>\n",
              "      <td>vulnerable</td>\n",
              "      <td>ph</td>\n",
              "      <td>he added that the afp will continue to bank on...</td>\n",
              "      <td>0</td>\n",
              "      <td>0</td>\n",
              "    </tr>\n",
              "    <tr>\n",
              "      <th>10466</th>\n",
              "      <td>10467</td>\n",
              "      <td>@@20282330</td>\n",
              "      <td>in-need</td>\n",
              "      <td>ng</td>\n",
              "      <td>\"\"\" she has one huge platform , and informatio...</td>\n",
              "      <td>1</td>\n",
              "      <td>3</td>\n",
              "    </tr>\n",
              "    <tr>\n",
              "      <th>10467</th>\n",
              "      <td>10468</td>\n",
              "      <td>@@16753236</td>\n",
              "      <td>hopeless</td>\n",
              "      <td>in</td>\n",
              "      <td>\"\"\" anja ringgren loven i ca n't find a word t...</td>\n",
              "      <td>1</td>\n",
              "      <td>4</td>\n",
              "    </tr>\n",
              "    <tr>\n",
              "      <th>10468</th>\n",
              "      <td>10469</td>\n",
              "      <td>@@16779383</td>\n",
              "      <td>homeless</td>\n",
              "      <td>ie</td>\n",
              "      <td>\"\"\" guinness world record of 540lbs of 7-layer...</td>\n",
              "      <td>1</td>\n",
              "      <td>3</td>\n",
              "    </tr>\n",
              "  </tbody>\n",
              "</table>\n",
              "<p>10469 rows × 7 columns</p>\n",
              "</div>"
            ],
            "text/plain": [
              "      par_id      art_id  ... label orig_label\n",
              "0          1  @@24942188  ...     0          0\n",
              "1          2  @@21968160  ...     0          0\n",
              "2          3  @@16584954  ...     0          0\n",
              "3          4   @@7811231  ...     0          0\n",
              "4          5   @@1494111  ...     0          0\n",
              "...      ...         ...  ...   ...        ...\n",
              "10464  10465  @@14297363  ...     0          1\n",
              "10465  10466  @@70091353  ...     0          0\n",
              "10466  10467  @@20282330  ...     1          3\n",
              "10467  10468  @@16753236  ...     1          4\n",
              "10468  10469  @@16779383  ...     1          3\n",
              "\n",
              "[10469 rows x 7 columns]"
            ]
          },
          "metadata": {},
          "execution_count": 5
        }
      ],
      "source": [
        "df"
      ]
    },
    {
      "cell_type": "code",
      "execution_count": 6,
      "metadata": {
        "id": "ONiEh6j6D05_",
        "colab": {
          "base_uri": "https://localhost:8080/"
        },
        "outputId": "fa26e0ef-161f-40be-9a70-4c6473c28f48"
      },
      "outputs": [
        {
          "output_type": "execute_result",
          "data": {
            "text/plain": [
              "0    9476\n",
              "1     993\n",
              "Name: label, dtype: int64"
            ]
          },
          "metadata": {},
          "execution_count": 6
        }
      ],
      "source": [
        "df.label.value_counts()"
      ]
    },
    {
      "cell_type": "code",
      "execution_count": 7,
      "metadata": {
        "collapsed": true,
        "id": "aPp6OYtED06A"
      },
      "outputs": [],
      "source": [
        "def labels2file(p, outf_path):\n",
        "    with open(outf_path,'w') as outf:\n",
        "        for pi in p:\n",
        "            outf.write(','.join([str(k) for k in pi])+'\\n')"
      ]
    },
    {
      "cell_type": "code",
      "execution_count": 8,
      "metadata": {
        "id": "gsSEenwiD06A",
        "colab": {
          "base_uri": "https://localhost:8080/"
        },
        "outputId": "857ba8f3-39ea-4b72-de3d-0e07396dd8f7"
      },
      "outputs": [
        {
          "output_type": "stream",
          "name": "stdout",
          "text": [
            "mkdir: cannot create directory ‘ref’: File exists\n",
            "mkdir: cannot create directory ‘res’: File exists\n"
          ]
        }
      ],
      "source": [
        "!mkdir ref res"
      ]
    },
    {
      "cell_type": "code",
      "execution_count": 9,
      "metadata": {
        "collapsed": true,
        "id": "Ajuz44gkD06B"
      },
      "outputs": [],
      "source": [
        "dpm.load_test()"
      ]
    },
    {
      "cell_type": "code",
      "execution_count": 10,
      "metadata": {
        "collapsed": true,
        "id": "n8fzZBH-D06D"
      },
      "outputs": [],
      "source": [
        "preds_task1 = [[random.randint(0,1)] for k in range(0,len(dpm.test_set))]\n",
        "labels2file(preds_task1, os.path.join('res/', 'task1.txt'))"
      ]
    },
    {
      "cell_type": "code",
      "execution_count": 11,
      "metadata": {
        "collapsed": true,
        "id": "oM7S3VN-D06G"
      },
      "outputs": [],
      "source": [
        "# !pip install -q tf-models-official"
      ]
    },
    {
      "cell_type": "code",
      "execution_count": 12,
      "metadata": {
        "id": "fbHNSqdGD06H",
        "colab": {
          "base_uri": "https://localhost:8080/"
        },
        "outputId": "e71b99a6-8f9e-436b-a197-3ca5e2eaf447"
      },
      "outputs": [
        {
          "output_type": "stream",
          "name": "stdout",
          "text": [
            "Requirement already satisfied: bert-for-tf2 in /usr/local/lib/python3.7/dist-packages (0.14.9)\n",
            "Requirement already satisfied: params-flow>=0.8.0 in /usr/local/lib/python3.7/dist-packages (from bert-for-tf2) (0.8.2)\n",
            "Requirement already satisfied: py-params>=0.9.6 in /usr/local/lib/python3.7/dist-packages (from bert-for-tf2) (0.10.2)\n",
            "Requirement already satisfied: numpy in /usr/local/lib/python3.7/dist-packages (from params-flow>=0.8.0->bert-for-tf2) (1.19.5)\n",
            "Requirement already satisfied: tqdm in /usr/local/lib/python3.7/dist-packages (from params-flow>=0.8.0->bert-for-tf2) (4.62.3)\n",
            "Requirement already satisfied: sentencepiece in /usr/local/lib/python3.7/dist-packages (0.1.96)\n"
          ]
        }
      ],
      "source": [
        "!pip install bert-for-tf2\n",
        "!pip install sentencepiece\n",
        "\n",
        "import tensorflow as tf\n",
        "import tensorflow_hub as hub\n",
        "import bert\n",
        "\n",
        "from official.nlp import optimization  # to create AdamW optimizer"
      ]
    },
    {
      "cell_type": "code",
      "execution_count": 12,
      "metadata": {
        "id": "DRfmiU9eD06I"
      },
      "outputs": [],
      "source": [
        ""
      ]
    },
    {
      "cell_type": "code",
      "execution_count": 13,
      "metadata": {
        "collapsed": true,
        "id": "sRe5OEvAD06J"
      },
      "outputs": [],
      "source": [
        "# bert_preprocess_model = hub.KerasLayer(tfhub_handle_preprocess)"
      ]
    },
    {
      "cell_type": "code",
      "execution_count": 13,
      "metadata": {
        "collapsed": true,
        "id": "PJI5LTjkD06J"
      },
      "outputs": [],
      "source": [
        ""
      ]
    },
    {
      "cell_type": "code",
      "execution_count": 14,
      "metadata": {
        "id": "8C3v2bo3D06K"
      },
      "outputs": [],
      "source": [
        "def preprocess_text(sen):\n",
        "    # Removing html tags\n",
        "    sentence = remove_tags(sen)\n",
        "\n",
        "    # Remove punctuations and numbers\n",
        "    sentence = re.sub('[^a-zA-Z]', ' ', sentence)\n",
        "\n",
        "    # Single character removal\n",
        "    sentence = re.sub(r\"\\s+[a-zA-Z]\\s+\", ' ', sentence)\n",
        "\n",
        "    # Removing multiple spaces\n",
        "    sentence = re.sub(r'\\s+', ' ', sentence)\n",
        "\n",
        "    return sentence"
      ]
    },
    {
      "cell_type": "code",
      "execution_count": 15,
      "metadata": {
        "id": "7ydcDZY7D06K"
      },
      "outputs": [],
      "source": [
        "import re\n",
        "#Return the cleaned text\n",
        "TAG_RE = re.compile(r'<[^>]+>')\n",
        "\n",
        "def remove_tags(text):\n",
        "    return TAG_RE.sub('', text)"
      ]
    },
    {
      "cell_type": "code",
      "execution_count": 16,
      "metadata": {
        "id": "ZjG9eqkiD06L"
      },
      "outputs": [],
      "source": [
        "sentences = []\n",
        "data = list(df['text'])\n",
        "for sen in data:\n",
        "    sentences.append(preprocess_text(sen))\n"
      ]
    },
    {
      "cell_type": "code",
      "execution_count": 17,
      "metadata": {
        "id": "oM1fLCxYD06L"
      },
      "outputs": [],
      "source": [
        "# df = dpm.train_task1_df.head()\n",
        "# print(movie_reviews.columns.values)"
      ]
    },
    {
      "cell_type": "code",
      "execution_count": 18,
      "metadata": {
        "id": "JZix0KpXD06L",
        "colab": {
          "base_uri": "https://localhost:8080/"
        },
        "outputId": "a5d38e79-dff3-439c-e8d4-75129a94dd6e"
      },
      "outputs": [
        {
          "output_type": "stream",
          "name": "stdout",
          "text": [
            "Requirement already satisfied: bert-for-tf2 in /usr/local/lib/python3.7/dist-packages (0.14.9)\n",
            "Requirement already satisfied: params-flow>=0.8.0 in /usr/local/lib/python3.7/dist-packages (from bert-for-tf2) (0.8.2)\n",
            "Requirement already satisfied: py-params>=0.9.6 in /usr/local/lib/python3.7/dist-packages (from bert-for-tf2) (0.10.2)\n",
            "Requirement already satisfied: numpy in /usr/local/lib/python3.7/dist-packages (from params-flow>=0.8.0->bert-for-tf2) (1.19.5)\n",
            "Requirement already satisfied: tqdm in /usr/local/lib/python3.7/dist-packages (from params-flow>=0.8.0->bert-for-tf2) (4.62.3)\n",
            "Requirement already satisfied: sentencepiece in /usr/local/lib/python3.7/dist-packages (0.1.96)\n"
          ]
        }
      ],
      "source": [
        "import tensorflow_hub as hub\n",
        "import tensorflow as tf\n",
        "from tensorflow.keras import layers\n",
        "import bert\n",
        "\n",
        "!pip install bert-for-tf2\n",
        "!pip install sentencepiece"
      ]
    },
    {
      "cell_type": "code",
      "execution_count": 19,
      "metadata": {
        "id": "inrY1WPVD06M"
      },
      "outputs": [],
      "source": [
        "\n",
        "\n",
        "\n",
        "BertTokenizer = bert.bert_tokenization.FullTokenizer\n",
        "#create a BERT embedding layer by importing the BERT model from hub.KerasLayer\n",
        "#trainable parameter is false since we will not further train the model\n",
        "bert_layer = hub.KerasLayer(\"https://tfhub.dev/tensorflow/bert_en_uncased_L-12_H-768_A-12/1\",\n",
        "                            trainable=False)\n",
        "#create a BERT vocabulary file\n",
        "vocabulary_file = bert_layer.resolved_object.vocab_file.asset_path.numpy()\n",
        "#set the text to lowercase\n",
        "to_lower_case = bert_layer.resolved_object.do_lower_case.numpy()\n",
        "#pass vocabulary_file and to_lower_case to the BertTokenizer object\n",
        "tokenizer = BertTokenizer(vocabulary_file, to_lower_case)"
      ]
    },
    {
      "cell_type": "code",
      "execution_count": 20,
      "metadata": {
        "id": "I99hC1nED06M",
        "colab": {
          "base_uri": "https://localhost:8080/"
        },
        "outputId": "4f92c85f-a6c4-4319-ec0c-49149f0ee029"
      },
      "outputs": [
        {
          "output_type": "execute_result",
          "data": {
            "text/plain": [
              "[1045,\n",
              " 2123,\n",
              " 1005,\n",
              " 1056,\n",
              " 2228,\n",
              " 2008,\n",
              " 2017,\n",
              " 1005,\n",
              " 2128,\n",
              " 2583,\n",
              " 2000,\n",
              " 3942,\n",
              " 2888,\n",
              " 1005,\n",
              " 1055,\n",
              " 2160,\n",
              " 1012]"
            ]
          },
          "metadata": {},
          "execution_count": 20
        }
      ],
      "source": [
        "# Just to see how this thing tokenizes\n",
        "tokenizer.convert_tokens_to_ids(tokenizer.tokenize(\"I don't think that you're able to visit Henry's house.\"))"
      ]
    },
    {
      "cell_type": "code",
      "execution_count": 21,
      "metadata": {
        "id": "x70SBbUtD06N"
      },
      "outputs": [],
      "source": [
        "def tokenize_reviews(text_reviews):\n",
        "    return tokenizer.convert_tokens_to_ids(tokenizer.tokenize(text_reviews))"
      ]
    },
    {
      "cell_type": "code",
      "execution_count": 22,
      "metadata": {
        "id": "sWykt_qbD06N"
      },
      "outputs": [],
      "source": [
        "tokenized_sentences = [tokenize_reviews(sent) for sent in sentences]\n"
      ]
    },
    {
      "cell_type": "code",
      "source": [
        "import tensorflow as tf\n",
        "from tensorflow.keras.layers import Embedding, Dense, LSTM, Bidirectional\n",
        "from tensorflow.keras.losses import BinaryCrossentropy\n",
        "from tensorflow.keras.models import Sequential\n",
        "from tensorflow.keras.optimizers import Adam\n",
        "from tensorflow.keras.preprocessing.sequence import pad_sequences"
      ],
      "metadata": {
        "id": "O_ck0y4NYsL1"
      },
      "execution_count": 23,
      "outputs": []
    },
    {
      "cell_type": "code",
      "source": [
        "# To see the accuracy and precision as model is training\n",
        "additional_metrics = ['accuracy', tf.keras.metrics.Precision()]\n",
        "\n",
        "# Various parameters I have not really messed with yet\n",
        "batch_size = 512\n",
        "\n",
        "# 10 seems to be a good value for this parameter\n",
        "embedding_output_dims = 10\n",
        "loss_function = BinaryCrossentropy()\n",
        "\n",
        "# Idea of max sequence is to cut off sequence if exceeding certain length\n",
        "# Saves a ton of time on training since longest sequences is 5501 tokens\n",
        "max_sequence_length = 100\n",
        "number_of_epochs = 20\n",
        "\n",
        "# Adam is an optimizer that seems to be very standard that Ive worked with in the past.\n",
        "# I have not looked to see if there are better ones for this case\n",
        "optimizer = Adam()\n",
        "\n",
        "#Parameter just to see info as model is training \n",
        "verbosity_mode = 1\n",
        "\n",
        "# Will want to calculate number of unique words at some point, may be a useful parameter\n",
        "\n",
        "# words = []\n",
        "# for i in range(0,len(x_train)):\n",
        "#   for j in range(0,len(x_train[i])):\n",
        "#     words.append(x_train[i][j])\n",
        "# num_distinct_words = set(words)\n",
        "# max_len = 0\n",
        "# words = []\n",
        "# for i in range(0,len(df['text'][training_idx])):\n",
        "#   if(len(df['text'][i]) > max_len):\n",
        "#     max_len = len(df['text'][i])\n",
        "#   for j in range(0,len(df['text'][i])):\n",
        "#     words.append(df['text'][i][j])\n",
        "\n",
        "# num_distinct_words = set(words)\n",
        "\n",
        "# print(len(num_distinct_words))\n",
        "# print(tokenized_sentences)\n",
        "# print(max_len)"
      ],
      "metadata": {
        "id": "WLAnWMJcZF7o"
      },
      "execution_count": 302,
      "outputs": []
    },
    {
      "cell_type": "code",
      "source": [
        ""
      ],
      "metadata": {
        "id": "JLjJ6cF9nuaG"
      },
      "execution_count": 302,
      "outputs": []
    },
    {
      "cell_type": "code",
      "source": [
        "# We need to pad inputs with 0 to standardize their lengths\n",
        "padded_inputs = pad_sequences(tokenized_sentences, maxlen=max_sequence_length, value = 0.0) # 0.0 because it corresponds with <PAD>\n",
        "\n",
        "# separate into training and testing sets\n",
        "indices = np.random.permutation(padded_inputs.shape[0])\n",
        "\n",
        "#Roughly a 80/20 split\n",
        "training_idx, test_idx = indices[:8000], indices[8000:]\n",
        "# training_idx, test_idx = indices[2000:], indices[:2000]\n",
        "\n",
        "\n",
        "padded_inputs_train = padded_inputs[training_idx]\n",
        "padded_inputs_test = padded_inputs[test_idx]\n",
        "\n",
        "labels_inputs = df['label'][training_idx]\n"
      ],
      "metadata": {
        "id": "C517UD64a60G"
      },
      "execution_count": 303,
      "outputs": []
    },
    {
      "cell_type": "code",
      "source": [
        "from keras import backend as K\n",
        "from keras.utils.generic_utils import get_custom_objects\n",
        "from keras.layers import Activation\n",
        "\n",
        "\n",
        "# I want to figure out how to do a custom activation function so I dont have to have the code at the end of the notebook that just shifts the decision point\n",
        "\n",
        "\n",
        "# def custom_activation(x):\n",
        "#   val = (K.sigmoid(x) * 10)\n",
        "#   if( val > 1):\n",
        "#     return .99\n",
        "#   else:\n",
        "#     return val\n",
        "# get_custom_objects().update({'custom_activation': Activation(custom_activation)})"
      ],
      "metadata": {
        "id": "VVNbvliuwTmy"
      },
      "execution_count": 304,
      "outputs": []
    },
    {
      "cell_type": "code",
      "source": [
        "model = Sequential()\n",
        "\n",
        "# Embedding layer:\n",
        "# This is just to get the model to run. Will want to actually calculate the correct value\n",
        "num_unique_words = 50000\n",
        "model.add(Embedding(30000, embedding_output_dims, input_length=max_sequence_length))\n",
        "\n",
        "\n",
        "# Biderection lstm layer:\n",
        "# Merge mode parameter is \"mode by which outputs of forward and backward RNN will be combined\"\n",
        "# concat seems to be the best one, but I havent tested it extensively yet\n",
        "\n",
        "# Havent messed with dropout rate much either\n",
        "model.add(Bidirectional(LSTM(20, dropout = .3, return_sequences=True)))\n",
        "# model.add(Bidirectional(LSTM(20, dropout = .1, return_sequences=True)))\n",
        "# model.add(Bidirectional(LSTM(20, dropout = .1, return_sequences=True)))\n",
        "model.add(Bidirectional(LSTM(20, dropout = .3, return_sequences=True)))\n",
        "\n",
        "model.add(Bidirectional(LSTM(20,dropout = .3), merge_mode='concat'))\n",
        "\n",
        "\n",
        "# Will want to try multiple layers, perhaps try a custom backwards layer?\n",
        "\n",
        "\n",
        "# Dense layer with a sigmoid activation function\n",
        "# Outputs as a probability so we can produce the binary classes\n",
        "model.add(Dense(1, activation='sigmoid'))\n",
        "# model.add(Activation(custom_activation, name='SpecialActivation'))\n",
        "# Will want to try different activation function: relu, softmax etc\n",
        "\n",
        "\n",
        "# Compile the model\n",
        "model.compile(optimizer=optimizer, loss=loss_function, metrics=additional_metrics)\n",
        "\n",
        "# Give a summary\n",
        "model.summary()\n",
        "\n",
        "# Train the model\n",
        "history = model.fit(padded_inputs_train, labels_inputs, validation_data=(padded_inputs_test, df['label'][test_idx]), batch_size=batch_size, epochs=number_of_epochs, verbose=verbosity_mode)\n",
        "\n",
        "# Test the model after training\n",
        "# test_results = model.evaluate(padded_inputs_test, y_test, verbose=False)"
      ],
      "metadata": {
        "id": "DwJ0CjNpYtVm",
        "colab": {
          "base_uri": "https://localhost:8080/"
        },
        "outputId": "b7903939-4109-4ecc-c121-f8e5271a96cb"
      },
      "execution_count": 305,
      "outputs": [
        {
          "output_type": "stream",
          "name": "stdout",
          "text": [
            "Model: \"sequential_17\"\n",
            "_________________________________________________________________\n",
            " Layer (type)                Output Shape              Param #   \n",
            "=================================================================\n",
            " embedding_17 (Embedding)    (None, 100, 10)           300000    \n",
            "                                                                 \n",
            " bidirectional_51 (Bidirecti  (None, 100, 40)          4960      \n",
            " onal)                                                           \n",
            "                                                                 \n",
            " bidirectional_52 (Bidirecti  (None, 100, 40)          9760      \n",
            " onal)                                                           \n",
            "                                                                 \n",
            " bidirectional_53 (Bidirecti  (None, 40)               9760      \n",
            " onal)                                                           \n",
            "                                                                 \n",
            " dense_17 (Dense)            (None, 1)                 41        \n",
            "                                                                 \n",
            "=================================================================\n",
            "Total params: 324,521\n",
            "Trainable params: 324,521\n",
            "Non-trainable params: 0\n",
            "_________________________________________________________________\n",
            "Epoch 1/20\n",
            "16/16 [==============================] - 28s 952ms/step - loss: 0.6071 - accuracy: 0.8516 - precision_10: 0.0654 - val_loss: 0.4164 - val_accuracy: 0.9064 - val_precision_10: 0.0000e+00\n",
            "Epoch 2/20\n",
            "16/16 [==============================] - 12s 748ms/step - loss: 0.3364 - accuracy: 0.9047 - precision_10: 0.0000e+00 - val_loss: 0.3187 - val_accuracy: 0.9064 - val_precision_10: 0.0000e+00\n",
            "Epoch 3/20\n",
            "16/16 [==============================] - 12s 753ms/step - loss: 0.3168 - accuracy: 0.9047 - precision_10: 0.0000e+00 - val_loss: 0.3117 - val_accuracy: 0.9064 - val_precision_10: 0.0000e+00\n",
            "Epoch 4/20\n",
            "16/16 [==============================] - 12s 758ms/step - loss: 0.3147 - accuracy: 0.9047 - precision_10: 0.0000e+00 - val_loss: 0.3107 - val_accuracy: 0.9064 - val_precision_10: 0.0000e+00\n",
            "Epoch 5/20\n",
            "16/16 [==============================] - 12s 761ms/step - loss: 0.3140 - accuracy: 0.9047 - precision_10: 0.0000e+00 - val_loss: 0.3104 - val_accuracy: 0.9064 - val_precision_10: 0.0000e+00\n",
            "Epoch 6/20\n",
            "16/16 [==============================] - 12s 759ms/step - loss: 0.3137 - accuracy: 0.9047 - precision_10: 0.0000e+00 - val_loss: 0.3100 - val_accuracy: 0.9064 - val_precision_10: 0.0000e+00\n",
            "Epoch 7/20\n",
            "16/16 [==============================] - 12s 755ms/step - loss: 0.3132 - accuracy: 0.9047 - precision_10: 0.0000e+00 - val_loss: 0.3095 - val_accuracy: 0.9064 - val_precision_10: 0.0000e+00\n",
            "Epoch 8/20\n",
            "16/16 [==============================] - 12s 770ms/step - loss: 0.3114 - accuracy: 0.9047 - precision_10: 0.0000e+00 - val_loss: 0.3073 - val_accuracy: 0.9064 - val_precision_10: 0.0000e+00\n",
            "Epoch 9/20\n",
            "16/16 [==============================] - 12s 769ms/step - loss: 0.3048 - accuracy: 0.9047 - precision_10: 0.0000e+00 - val_loss: 0.3010 - val_accuracy: 0.9064 - val_precision_10: 0.0000e+00\n",
            "Epoch 10/20\n",
            "16/16 [==============================] - 12s 755ms/step - loss: 0.2781 - accuracy: 0.9047 - precision_10: 0.0000e+00 - val_loss: 0.2763 - val_accuracy: 0.9064 - val_precision_10: 0.0000e+00\n",
            "Epoch 11/20\n",
            "16/16 [==============================] - 12s 764ms/step - loss: 0.2131 - accuracy: 0.9082 - precision_10: 0.9375 - val_loss: 0.2687 - val_accuracy: 0.9068 - val_precision_10: 0.5185\n",
            "Epoch 12/20\n",
            "16/16 [==============================] - 12s 757ms/step - loss: 0.1383 - accuracy: 0.9526 - precision_10: 0.7960 - val_loss: 0.2910 - val_accuracy: 0.9056 - val_precision_10: 0.4919\n",
            "Epoch 13/20\n",
            "16/16 [==============================] - 12s 768ms/step - loss: 0.0891 - accuracy: 0.9712 - precision_10: 0.8725 - val_loss: 0.3247 - val_accuracy: 0.9081 - val_precision_10: 0.5172\n",
            "Epoch 14/20\n",
            "16/16 [==============================] - 12s 767ms/step - loss: 0.0624 - accuracy: 0.9819 - precision_10: 0.9175 - val_loss: 0.3312 - val_accuracy: 0.9089 - val_precision_10: 0.5294\n",
            "Epoch 15/20\n",
            "16/16 [==============================] - 12s 769ms/step - loss: 0.0449 - accuracy: 0.9883 - precision_10: 0.9465 - val_loss: 0.3775 - val_accuracy: 0.9056 - val_precision_10: 0.4921\n",
            "Epoch 16/20\n",
            "16/16 [==============================] - 12s 760ms/step - loss: 0.0344 - accuracy: 0.9909 - precision_10: 0.9575 - val_loss: 0.4070 - val_accuracy: 0.9097 - val_precision_10: 0.5426\n",
            "Epoch 17/20\n",
            "16/16 [==============================] - 12s 759ms/step - loss: 0.0228 - accuracy: 0.9950 - precision_10: 0.9750 - val_loss: 0.4338 - val_accuracy: 0.9060 - val_precision_10: 0.4962\n",
            "Epoch 18/20\n",
            "16/16 [==============================] - 12s 765ms/step - loss: 0.0192 - accuracy: 0.9958 - precision_10: 0.9802 - val_loss: 0.4497 - val_accuracy: 0.9081 - val_precision_10: 0.5185\n",
            "Epoch 19/20\n",
            "16/16 [==============================] - 12s 763ms/step - loss: 0.0175 - accuracy: 0.9960 - precision_10: 0.9790 - val_loss: 0.4836 - val_accuracy: 0.9060 - val_precision_10: 0.4952\n",
            "Epoch 20/20\n",
            "16/16 [==============================] - 12s 765ms/step - loss: 0.0145 - accuracy: 0.9970 - precision_10: 0.9855 - val_loss: 0.4988 - val_accuracy: 0.8979 - val_precision_10: 0.4356\n"
          ]
        }
      ]
    },
    {
      "cell_type": "code",
      "source": [
        "from matplotlib import pyplot as plt\n",
        "plt.plot(history.history['accuracy'])\n",
        "plt.plot(history.history['val_accuracy'])\n",
        "\n",
        "plt.plot(history.history['loss'])\n",
        "plt.plot(history.history['val_loss'])\n",
        "\n",
        "plt.title('model accuracy')\n",
        "plt.ylabel('accuracy')\n",
        "plt.xlabel('epoch')\n",
        "plt.legend(['training acc', 'testing acc', 'training loss', 'testing loss'], loc='upper left')\n",
        "plt.show()"
      ],
      "metadata": {
        "colab": {
          "base_uri": "https://localhost:8080/",
          "height": 295
        },
        "id": "7sfU4R6s2d-h",
        "outputId": "cadb9381-2320-406c-9dc5-c766db762615"
      },
      "execution_count": 306,
      "outputs": [
        {
          "output_type": "display_data",
          "data": {
            "image/png": "[encoded data removed]",
            "text/plain": [
              "<Figure size 432x288 with 1 Axes>"
            ]
          },
          "metadata": {
            "needs_background": "light"
          }
        }
      ]
    },
    {
      "cell_type": "markdown",
      "source": [
        "We see that actually after 5-10 or so epochs, the model is now learning the \"wrong\" things. We can see this from the fact that the accuracy and loss decouple between the training and test sets. The model is able to figure out very precise patterns in the training set that due to randomness are not in the test set. By randomizing the test and training set before training, we've seen that this phenomena happens at different number of epochs"
      ],
      "metadata": {
        "id": "cOa3Hjj9JLeL"
      }
    },
    {
      "cell_type": "code",
      "execution_count": 307,
      "metadata": {
        "id": "du8Qjf4YD06Q",
        "colab": {
          "base_uri": "https://localhost:8080/"
        },
        "outputId": "7d0bd51c-fa43-4f99-d271-02b4918da0e4"
      },
      "outputs": [
        {
          "output_type": "stream",
          "name": "stdout",
          "text": [
            "[[0.29742295]\n",
            " [0.00137973]\n",
            " [0.98629606]\n",
            " ...\n",
            " [0.00148842]\n",
            " [0.00160012]\n",
            " [0.00144181]]\n"
          ]
        }
      ],
      "source": [
        "results = model.predict(padded_inputs_test)\n",
        "print(results)\n"
      ]
    },
    {
      "cell_type": "code",
      "execution_count": 308,
      "metadata": {
        "id": "-bWsZv0WD06Q",
        "colab": {
          "base_uri": "https://localhost:8080/"
        },
        "outputId": "db542ae7-4a6d-443c-be58-f74fb9cf0b71"
      },
      "outputs": [
        {
          "output_type": "stream",
          "name": "stdout",
          "text": [
            "338 2131\n"
          ]
        }
      ],
      "source": [
        "# See how many positive and negative predictions in test set\n",
        "negCount = 0\n",
        "posCount = 0\n",
        "res = []\n",
        "for i in range(0,len(results)):\n",
        "\n",
        "# I noticed the rate of positives to negatives here was significantly lower than the training set if we used a .5 cuttof\n",
        "# Because of this, I significantly lower the decision point to try and capture more \"true positives\"\n",
        "# This is really just an extension of the activation function we used earlier\n",
        "# The activation function was skewing the results in a way we dont want, so this is effectively \"unskewing\" the results\n",
        "\n",
        "  if(results[i]< .005):\n",
        "    negCount += 1\n",
        "    res.append(0)\n",
        "  else:\n",
        "    posCount += 1\n",
        "    res.append(1)\n",
        "print(posCount,negCount)"
      ]
    },
    {
      "cell_type": "code",
      "source": [
        "preds_task1 = [[res[k]] for k in range(0,len(res))]\n",
        "\n",
        "labels2file(preds_task1, os.path.join('res/', 'task1.txt'))"
      ],
      "metadata": {
        "id": "6QBsWki4Q-c0"
      },
      "execution_count": 309,
      "outputs": []
    },
    {
      "cell_type": "code",
      "source": [
        "labels2file(dpm.train_task1_df.label[test_idx].apply(lambda x:[x]).tolist(), os.path.join('ref/', 'task1.txt'))"
      ],
      "metadata": {
        "id": "_j6NQNUfTlMl"
      },
      "execution_count": 310,
      "outputs": []
    },
    {
      "cell_type": "code",
      "source": [
        "import sys\n",
        "import os\n",
        "import os.path\n",
        "from sklearn.metrics import precision_score, recall_score, f1_score, classification_report\n",
        "import numpy as np\n",
        "\n",
        "# as per the metadata file, input and output directories are the arguments\n",
        "[_, input_dir, output_dir] = sys.argv\n",
        "\n",
        "# unzipped submission data is always in the 'res' subdirectory\n",
        "# https://github.com/codalab/codalab-competitions/wiki/User_Building-a-Scoring-Program-for-a-Competition#directory-structure-for-submissions\n",
        "\n",
        "# define gold data path\n",
        "ref_dir = os.path.join(\".\", 'ref')\n",
        "\n",
        "# define submission data path\n",
        "submission_dir = os.path.join(\".\", 'res')\n",
        "files = os.listdir(submission_dir)\n",
        "\n",
        "# define path for scores file\n",
        "outf = open(os.path.join(\".\",'scores.txt'),'w')\n",
        "\n",
        "# evaluating on task 1\n",
        "if 'task1.txt' in files:\n",
        "    task1_res = []\n",
        "    task1_gold = []\n",
        "    with open(os.path.join(submission_dir,'task1.txt')) as f:\n",
        "        for line in f:\n",
        "            task1_res.append(int(line.strip()))\n",
        "    with open(os.path.join(ref_dir,'task1.txt')) as f:\n",
        "        for line in f:\n",
        "            task1_gold.append(int(line.strip()))\n",
        "    # task 1 scores\n",
        "    t1p = precision_score(task1_gold, task1_res)\n",
        "    t1r = recall_score(task1_gold, task1_res)\n",
        "    t1f = f1_score(task1_gold, task1_res)\n",
        "    # task1\n",
        "    outf.write('task1_precision:'+str(t1p)+'\\n')\n",
        "    outf.write('task1_recall:'+str(t1r)+'\\n')\n",
        "    outf.write('task1_f1:'+str(t1f)+'\\n')    \n",
        "\n",
        "\n",
        "outf.close()"
      ],
      "metadata": {
        "id": "YsczF9MqWQn_"
      },
      "execution_count": 311,
      "outputs": []
    },
    {
      "cell_type": "code",
      "source": [
        ""
      ],
      "metadata": {
        "id": "cOUCt2an1Tjk"
      },
      "execution_count": 311,
      "outputs": []
    },
    {
      "cell_type": "code",
      "source": [
        ""
      ],
      "metadata": {
        "id": "XfM4MywjEAxR"
      },
      "execution_count": 311,
      "outputs": []
    }
  ],
  "metadata": {
    "kernelspec": {
      "display_name": "Python 3",
      "language": "python",
      "name": "python3"
    },
    "language_info": {
      "codemirror_mode": {
        "name": "ipython",
        "version": 3
      },
      "file_extension": ".py",
      "mimetype": "text/x-python",
      "name": "python",
      "nbconvert_exporter": "python",
      "pygments_lexer": "ipython3",
      "version": "3.7.4"
    },
    "colab": {
      "name": "sharedtask.ipynb",
      "provenance": []
    }
  },
  "nbformat": 4,
  "nbformat_minor": 0
}